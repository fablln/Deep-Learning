{
 "cells": [
  {
   "cell_type": "markdown",
   "metadata": {
    "deletable": true,
    "editable": true
   },
   "source": [
    "<h1 style=\"text-align:center\">Deep Learning   </h1>\n",
    "<h1 style=\"text-align:center\"> Lab Session 3 - 3 Hours </h1>\n",
    "<h1 style=\"text-align:center\">Long Short Term Memory (LSTM) for Language Modeling</h1>"
   ]
  },
  {
   "cell_type": "markdown",
   "metadata": {
    "deletable": true,
    "editable": true
   },
   "source": [
    "<b> Student 1:</b> CANALE\n",
    "<b> Student 2:</b> ELLENA\n",
    " \n",
    " \n",
    "In this Lab Session,  you will build and train a Recurrent Neural Network, based on Long Short-Term Memory (LSTM) units for next word prediction task. \n",
    "\n",
    "Answers and experiments should be made by groups of one or two students. Each group should fill and run appropriate notebook cells. \n",
    "Once you have completed all of the code implementations and successfully answered each question above, you may finalize your work by exporting the iPython Notebook as an pdf document using print as PDF (Ctrl+P). Do not forget to run all your cells before generating your final report and do not forget to include the names of all participants in the group. The lab session should be completed by June 9th 2017.\n",
    "\n",
    "Send you pdf file to benoit.huet@eurecom.fr and olfa.ben-ahmed@eurecom.fr using **[DeepLearning_lab3]** as Subject of your email."
   ]
  },
  {
   "cell_type": "markdown",
   "metadata": {
    "deletable": true,
    "editable": true
   },
   "source": [
    "#  Introduction"
   ]
  },
  {
   "cell_type": "markdown",
   "metadata": {
    "deletable": true,
    "editable": true
   },
   "source": [
    "You will train a LSTM to predict the next word using a sample short story. The LSTM will learn to predict the next item of a sentence from the 3 previous items (given as input). Ponctuation marks are considered as dictionary items so they can be predicted too. Figure 1 shows the LSTM and the process of next word prediction. \n",
    "\n",
    "<img src=\"lstm.png\" height=\"370\" width=\"370\"> \n",
    "\n",
    "\n",
    "Each word (and ponctuation) from text sentences is encoded by a unique integer. The integer value corresponds to the index of the corresponding word (or punctuation mark) in the dictionnary. The network output is a one-hot-vector indicating the index of the predicted word in the reversed dictionary (Section 1.2). For example if the prediction is 86, the predicted word will be \"company\". \n",
    "\n",
    "\n",
    "\n",
    "You will use a sample short story from Aesop’s Fables (http://www.taleswithmorals.com/) to train your model. \n"
   ]
  },
  {
   "cell_type": "markdown",
   "metadata": {
    "deletable": true,
    "editable": true
   },
   "source": [
    "<font size=\"3\" face=\"verdana\" > <i> \"There was once a young Shepherd Boy who tended his sheep at the foot of a mountain near a dark forest.\n",
    "\n",
    "It was rather lonely for him all day, so he thought upon a plan by which he could get a little company and some excitement.\n",
    "He rushed down towards the village calling out \"Wolf, Wolf,\" and the villagers came out to meet him, and some of them stopped with him for a considerable time.\n",
    "This pleased the boy so much that a few days afterwards he tried the same trick, and again the villagers came to his help.\n",
    "But shortly after this a Wolf actually did come out from the forest, and began to worry the sheep, and the boy of course cried out \"Wolf, Wolf,\" still louder than before.\n",
    "But this time the villagers, who had been fooled twice before, thought the boy was again deceiving them, and nobody stirred to come to his help.\n",
    "So the Wolf made a good meal off the boy's flock, and when the boy complained, the wise man of the village said:\n",
    "\"A liar will not be believed, even when he speaks the truth.\"  \"</i> </font>.    \n",
    "\n",
    "\n",
    "\n",
    "\n",
    "\n"
   ]
  },
  {
   "cell_type": "markdown",
   "metadata": {
    "deletable": true,
    "editable": true
   },
   "source": [
    "Start by loading the necessary libraries and resetting the default computational graph. For more details about the rnn packages, we suggest you to take a look at https://www.tensorflow.org/api_guides/python/contrib.rnn"
   ]
  },
  {
   "cell_type": "code",
   "execution_count": 2,
   "metadata": {
    "collapsed": false,
    "deletable": true,
    "editable": true
   },
   "outputs": [],
   "source": [
    "import numpy as np\n",
    "import collections # used to build the dictionary\n",
    "import random\n",
    "import time\n",
    "from time import time\n",
    "import pickle # may be used to save your model \n",
    "import matplotlib.pyplot as plt\n",
    "#Import Tensorflow and rnn\n",
    "import tensorflow as tf\n",
    "from tensorflow.contrib import rnn  \n",
    "\n",
    "# Target log path\n",
    "logs_path = 'lstm_words'\n",
    "writer = tf.summary.FileWriter(logs_path)"
   ]
  },
  {
   "cell_type": "markdown",
   "metadata": {
    "deletable": true,
    "editable": true
   },
   "source": [
    "# Next-word prediction task"
   ]
  },
  {
   "cell_type": "markdown",
   "metadata": {
    "collapsed": true,
    "deletable": true,
    "editable": true
   },
   "source": [
    "## Part 1: Data  preparation"
   ]
  },
  {
   "cell_type": "markdown",
   "metadata": {
    "collapsed": true,
    "deletable": true,
    "editable": true
   },
   "source": [
    "### 1.1. Loading data"
   ]
  },
  {
   "cell_type": "markdown",
   "metadata": {
    "deletable": true,
    "editable": true
   },
   "source": [
    "Load and split the text of our story"
   ]
  },
  {
   "cell_type": "code",
   "execution_count": 2,
   "metadata": {
    "collapsed": false,
    "deletable": true,
    "editable": true
   },
   "outputs": [
    {
     "name": "stdout",
     "output_type": "stream",
     "text": [
      "['there' 'was' 'once' 'a' 'young' 'shepherd' 'boy' 'who' 'tended' 'his'\n",
      " 'sheep' 'at' 'the' 'foot' 'of' 'a' 'mountain' 'near' 'a' 'dark' 'forest'\n",
      " '.' 'it' 'was' 'rather' 'lonely' 'for' 'him' 'all' 'day' ',' 'so' 'he'\n",
      " 'thought' 'upon' 'a' 'plan' 'by' 'which' 'he' 'could' 'get' 'a' 'little'\n",
      " 'company' 'and' 'some' 'excitement' '.' 'he' 'rushed' 'down' 'towards'\n",
      " 'the' 'village' 'calling' 'out' 'wolf' ',' 'wolf' ',' 'and' 'the'\n",
      " 'villagers' 'came' 'out' 'to' 'meet' 'him' ',' 'and' 'some' 'of' 'them'\n",
      " 'stopped' 'with' 'him' 'for' 'a' 'considerable' 'time' '.' 'this'\n",
      " 'pleased' 'the' 'boy' 'so' 'much' 'that' 'a' 'few' 'days' 'afterwards'\n",
      " 'he' 'tried' 'the' 'same' 'trick' ',' 'and' 'again' 'the' 'villagers'\n",
      " 'came' 'to' 'his' 'help' '.' 'but' 'shortly' 'after' 'this' 'a' 'wolf'\n",
      " 'actually' 'did' 'come' 'out' 'from' 'the' 'forest' ',' 'and' 'began' 'to'\n",
      " 'worry' 'the' 'sheep,' 'and' 'the' 'boy' 'of' 'course' 'cried' 'out'\n",
      " 'wolf' ',' 'wolf' ',' 'still' 'louder' 'than' 'before' '.' 'but' 'this'\n",
      " 'time' 'the' 'villagers' ',' 'who' 'had' 'been' 'fooled' 'twice' 'before'\n",
      " ',' 'thought' 'the' 'boy' 'was' 'again' 'deceiving' 'them' ',' 'and'\n",
      " 'nobody' 'stirred' 'to' 'come' 'to' 'his' 'help' '.' 'so' 'the' 'wolf'\n",
      " 'made' 'a' 'good' 'meal' 'off' 'the' \"boy's\" 'flock' ',' 'and' 'when'\n",
      " 'the' 'boy' 'complained' ',' 'the' 'wise' 'man' 'of' 'the' 'village'\n",
      " 'said' ':' 'a' 'liar' 'will' 'not' 'be' 'believed' ',' 'even' 'when' 'he'\n",
      " 'speaks' 'the' 'truth' '.']\n",
      "Loaded training data...\n",
      "214\n"
     ]
    }
   ],
   "source": [
    "def load_data(filename):\n",
    "    with open(filename) as f:\n",
    "        data = f.readlines()\n",
    "    data = [x.strip().lower() for x in data]\n",
    "    data = [data[i].split() for i in range(len(data))]\n",
    "    data = np.array(data)\n",
    "    data = np.reshape(data, [-1, ])\n",
    "    print(data)\n",
    "    return data\n",
    "\n",
    "#Run the cell \n",
    "train_file ='data/story.txt'\n",
    "train_data = load_data(train_file)\n",
    "print(\"Loaded training data...\")\n",
    "print(len(train_data))"
   ]
  },
  {
   "cell_type": "markdown",
   "metadata": {
    "deletable": true,
    "editable": true
   },
   "source": [
    "### 1.2.Symbols encoding"
   ]
  },
  {
   "cell_type": "markdown",
   "metadata": {
    "deletable": true,
    "editable": true
   },
   "source": [
    "The LSTM input's can only be numbers. A way to convert words (symbols or any items) to numbers is to assign a unique integer to each word. This process is often based on frequency of occurrence for efficient coding purpose.\n",
    "\n",
    "Here, we define a function to build an indexed word dictionary (word->number). The \"build_vocabulary\" function builds both:\n",
    "\n",
    "- Dictionary : used for encoding words to numbers for the LSTM inputs \n",
    "- Reverted dictionnary : used for decoding the outputs of the LSTM into words (and punctuation).\n",
    "\n",
    "For example, in the story above, we have **113** individual words. The \"build_vocabulary\" function builds a dictionary with the following entries ['the': 0], [',': 1], ['company': 85],...\n"
   ]
  },
  {
   "cell_type": "code",
   "execution_count": 3,
   "metadata": {
    "collapsed": false,
    "deletable": true,
    "editable": true
   },
   "outputs": [],
   "source": [
    "def build_vocabulary(words):\n",
    "    count = collections.Counter(words).most_common()\n",
    "    dic= dict()\n",
    "    for word, _ in count:\n",
    "        dic[word] = len(dic)\n",
    "\n",
    "    reverse_dic= dict(zip(dic.values(), dic.keys()))\n",
    "    return dic, reverse_dic"
   ]
  },
  {
   "cell_type": "markdown",
   "metadata": {
    "deletable": true,
    "editable": true
   },
   "source": [
    "Run the cell below to display the vocabulary"
   ]
  },
  {
   "cell_type": "code",
   "execution_count": 4,
   "metadata": {
    "collapsed": false,
    "deletable": true,
    "editable": true,
    "scrolled": true
   },
   "outputs": [
    {
     "name": "stdout",
     "output_type": "stream",
     "text": [
      "Dictionary size (Vocabulary size) =  113\n",
      "\n",
      "\n",
      "Dictionary : \n",
      "\n",
      "{'all': 32, 'liar': 33, 'help': 17, 'cried': 34, 'course': 35, 'still': 36, 'pleased': 37, 'before': 18, 'excitement': 91, 'deceiving': 38, 'had': 39, 'young': 69, 'actually': 40, 'to': 6, 'villagers': 11, 'shepherd': 41, 'them': 19, 'lonely': 42, 'get': 44, 'dark': 45, 'not': 64, 'day': 47, 'did': 48, 'calling': 49, 'twice': 50, 'good': 51, 'stopped': 52, 'truth': 53, 'meal': 54, 'sheep,': 55, 'some': 20, 'tended': 56, 'louder': 57, 'flock': 58, 'out': 9, 'even': 59, 'trick': 60, 'said': 61, 'for': 21, 'be': 62, 'after': 63, 'come': 22, 'by': 65, 'boy': 7, 'of': 10, 'could': 66, 'days': 67, 'wolf': 5, 'afterwards': 68, ',': 1, 'down': 70, 'village': 23, 'sheep': 72, 'little': 73, 'from': 74, 'rushed': 75, 'there': 76, 'been': 77, '.': 4, 'few': 78, 'much': 79, \"boy's\": 80, ':': 81, 'was': 12, 'a': 2, 'him': 13, 'that': 83, 'company': 84, 'nobody': 85, 'but': 24, 'fooled': 86, 'with': 87, 'than': 43, 'he': 8, 'made': 89, 'wise': 90, 'this': 14, 'will': 71, 'near': 92, 'believed': 93, 'meet': 94, 'and': 3, 'it': 95, 'his': 15, 'at': 96, 'worry': 97, 'again': 25, 'considerable': 88, 'rather': 98, 'began': 99, 'when': 26, 'same': 101, 'forest': 27, 'which': 102, 'speaks': 103, 'towards': 104, 'tried': 105, 'mountain': 106, 'who': 28, 'upon': 107, 'plan': 108, 'man': 109, 'complained': 82, 'stirred': 110, 'off': 100, 'foot': 46, 'shortly': 111, 'thought': 29, 'so': 16, 'time': 30, 'the': 0, 'came': 31, 'once': 112}\n",
      "\n",
      "\n",
      "Reverted Dictionary : \n",
      "\n",
      "{0: 'the', 1: ',', 2: 'a', 3: 'and', 4: '.', 5: 'wolf', 6: 'to', 7: 'boy', 8: 'he', 9: 'out', 10: 'of', 11: 'villagers', 12: 'was', 13: 'him', 14: 'this', 15: 'his', 16: 'so', 17: 'help', 18: 'before', 19: 'them', 20: 'some', 21: 'for', 22: 'come', 23: 'village', 24: 'but', 25: 'again', 26: 'when', 27: 'forest', 28: 'who', 29: 'thought', 30: 'time', 31: 'came', 32: 'all', 33: 'liar', 34: 'cried', 35: 'course', 36: 'still', 37: 'pleased', 38: 'deceiving', 39: 'had', 40: 'actually', 41: 'shepherd', 42: 'lonely', 43: 'than', 44: 'get', 45: 'dark', 46: 'foot', 47: 'day', 48: 'did', 49: 'calling', 50: 'twice', 51: 'good', 52: 'stopped', 53: 'truth', 54: 'meal', 55: 'sheep,', 56: 'tended', 57: 'louder', 58: 'flock', 59: 'even', 60: 'trick', 61: 'said', 62: 'be', 63: 'after', 64: 'not', 65: 'by', 66: 'could', 67: 'days', 68: 'afterwards', 69: 'young', 70: 'down', 71: 'will', 72: 'sheep', 73: 'little', 74: 'from', 75: 'rushed', 76: 'there', 77: 'been', 78: 'few', 79: 'much', 80: \"boy's\", 81: ':', 82: 'complained', 83: 'that', 84: 'company', 85: 'nobody', 86: 'fooled', 87: 'with', 88: 'considerable', 89: 'made', 90: 'wise', 91: 'excitement', 92: 'near', 93: 'believed', 94: 'meet', 95: 'it', 96: 'at', 97: 'worry', 98: 'rather', 99: 'began', 100: 'off', 101: 'same', 102: 'which', 103: 'speaks', 104: 'towards', 105: 'tried', 106: 'mountain', 107: 'upon', 108: 'plan', 109: 'man', 110: 'stirred', 111: 'shortly', 112: 'once'}\n"
     ]
    }
   ],
   "source": [
    "dictionary, reverse_dictionary = build_vocabulary(train_data)\n",
    "vocabulary_size= len(dictionary) \n",
    "print \"Dictionary size (Vocabulary size) = \", vocabulary_size\n",
    "print(\"\\n\")\n",
    "print(\"Dictionary : \\n\")\n",
    "print(dictionary)\n",
    "print(\"\\n\")\n",
    "print(\"Reverted Dictionary : \\n\" )\n",
    "print(reverse_dictionary)"
   ]
  },
  {
   "cell_type": "markdown",
   "metadata": {
    "deletable": true,
    "editable": true
   },
   "source": [
    "## Part 2 : LSTM Model in TensorFlow"
   ]
  },
  {
   "cell_type": "markdown",
   "metadata": {
    "deletable": true,
    "editable": true
   },
   "source": [
    "Since you have defined how the data will be modeled, you are now to develop an LSTM model to predict the word of following a sequence of 3 words. "
   ]
  },
  {
   "cell_type": "markdown",
   "metadata": {
    "deletable": true,
    "editable": true
   },
   "source": [
    "### 2.1. Model definition"
   ]
  },
  {
   "cell_type": "markdown",
   "metadata": {
    "deletable": true,
    "editable": true
   },
   "source": [
    "Define a 2-layers LSTM model.  \n",
    "\n",
    "For this use the following classes from the tensorflow.contrib library:\n",
    "\n",
    "- rnn.BasicLSTMCell(number of hidden units) \n",
    "- rnn.static_rnn(rnn_cell, data, dtype=tf.float32)\n",
    "- rnn.MultiRNNCell(,)\n",
    "\n",
    "\n",
    "You may need some tensorflow functions (https://www.tensorflow.org/api_docs/python/tf/) :\n",
    "- tf.split\n",
    "- tf.reshape \n",
    "- ...\n",
    "\n",
    "\n"
   ]
  },
  {
   "cell_type": "code",
   "execution_count": 5,
   "metadata": {
    "collapsed": false,
    "deletable": true,
    "editable": true
   },
   "outputs": [],
   "source": [
    "def lstm_model(x, w, b, n_input, n_hidden):\n",
    "    # reshape to [1, n_input]\n",
    "    x = tf.reshape(x, [-1, n_input])\n",
    "\n",
    "    # Generate a n_input-element sequence of inputs\n",
    "    # (eg. [had] [a] [general] -> [20] [6] [33])\n",
    "    x = tf.split(x,n_input,1)\n",
    "\n",
    "    # 1-layer LSTM with n_hidden units.\n",
    "    rnn_cell = rnn.BasicLSTMCell(n_hidden)\n",
    "    \n",
    "    #improvement\n",
    "    #rnn_cell = rnn.MultiRNNCell([rnn.BasicLSTMCell(n_hidden),rnn.BasicLSTMCell(n_hidden)])\n",
    "    #rnn_cell = rnn.MultiRNNCell([rnn.BasicLSTMCell(n_hidden),rnn.BasicLSTMCell(n_hidden),rnn.BasicLSTMCell(n_hidden)])\n",
    "\n",
    "    # generate prediction\n",
    "    outputs, states = rnn.static_rnn(rnn_cell, x, dtype=tf.float32)\n",
    "\n",
    "    # there are n_input outputs but\n",
    "    # we only want the last output\n",
    "    return tf.matmul(outputs[-1], w['out']) + b['out']"
   ]
  },
  {
   "cell_type": "markdown",
   "metadata": {
    "deletable": true,
    "editable": true
   },
   "source": [
    "Training Parameters and constants"
   ]
  },
  {
   "cell_type": "code",
   "execution_count": 6,
   "metadata": {
    "collapsed": false,
    "deletable": true,
    "editable": true
   },
   "outputs": [],
   "source": [
    "# Training Parameters\n",
    "learning_rate = 0.001\n",
    "epochs = 50000\n",
    "display_step = 1000\n",
    "n_input = 3\n",
    "\n",
    "#For each LSTM cell that you initialise, supply a value for the hidden dimension, number of units in LSTM cell\n",
    "n_hidden = 64\n",
    "\n",
    "# tf Graph input\n",
    "x = tf.placeholder(\"float\", [None, n_input, 1])\n",
    "y = tf.placeholder(\"float\", [None, vocabulary_size])\n",
    "\n",
    "# LSTM  weights and biases\n",
    "weights = { 'out': tf.Variable(tf.random_normal([n_hidden, vocabulary_size]))}\n",
    "biases = {'out': tf.Variable(tf.random_normal([vocabulary_size])) }\n",
    "\n",
    "\n",
    "#build the model\n",
    "pred = lstm_model(x, weights, biases,n_input,n_hidden)"
   ]
  },
  {
   "cell_type": "markdown",
   "metadata": {
    "deletable": true,
    "editable": true
   },
   "source": [
    "Define the Loss/Cost and optimizer"
   ]
  },
  {
   "cell_type": "code",
   "execution_count": 7,
   "metadata": {
    "collapsed": false,
    "deletable": true,
    "editable": true
   },
   "outputs": [],
   "source": [
    "# Loss and optimizer\n",
    "cost = tf.reduce_mean(tf.nn.softmax_cross_entropy_with_logits(logits=pred, labels=y))\n",
    "#cost = tf.reduce_mean(-tf.reduce_sum(y*tf.log(pred), reduction_indices=1))\n",
    "#cost = tf.reduce_mean(-tf.reduce_sum(y*tf.log(tf.clip_by_value(pred,-1.0,1.0)), reduction_indices=1))\n",
    "optimizer = tf.train.RMSPropOptimizer(learning_rate).minimize(cost)\n",
    "\n",
    "# Model evaluation\n",
    "correct_pred = tf.equal(tf.argmax(pred,1), tf.argmax(y,1))\n",
    "accuracy = tf.reduce_mean(tf.cast(correct_pred, tf.float32))"
   ]
  },
  {
   "cell_type": "markdown",
   "metadata": {
    "deletable": true,
    "editable": true
   },
   "source": [
    "## Comment: \n",
    "We decided to apply the softmax and calculate the cost at the same time. In this way we can use the method `softmax_cross_entropy_with_logits`, which is more numerically stable in corner cases than applying the softmax and then calculating the cross entropy"
   ]
  },
  {
   "cell_type": "markdown",
   "metadata": {
    "collapsed": true,
    "deletable": true,
    "editable": true
   },
   "source": [
    "We give you here the Test Function"
   ]
  },
  {
   "cell_type": "code",
   "execution_count": 8,
   "metadata": {
    "collapsed": true,
    "deletable": true,
    "editable": true
   },
   "outputs": [],
   "source": [
    "#run the cell\n",
    "def test(sentence, session, verbose=False):\n",
    "    sentence = sentence.strip()\n",
    "    words = sentence.split(' ')\n",
    "    if len(words) != n_input:\n",
    "        print(\"sentence length should be equel to\", n_input, \"!\")\n",
    "    try:\n",
    "        symbols_inputs = [dictionary[str(words[i - n_input])] for i in range(n_input)]\n",
    "        keys = np.reshape(np.array(symbols_inputs), [-1, n_input, 1])\n",
    "        onehot_pred = session.run(pred, feed_dict={x: keys})\n",
    "        onehot_pred_index = int(tf.argmax(onehot_pred, 1).eval())\n",
    "        words.append(reverse_dictionary[onehot_pred_index])\n",
    "        sentence = \" \".join(words)\n",
    "        if verbose:\n",
    "            print(sentence)\n",
    "        return reverse_dictionary[onehot_pred_index]\n",
    "    except:\n",
    "        print \" \".join([\"Word\", words[i - n_input], \"not in dictionary\"])"
   ]
  },
  {
   "cell_type": "markdown",
   "metadata": {
    "deletable": true,
    "editable": true
   },
   "source": [
    "## Part 3 : LSTM Training  "
   ]
  },
  {
   "cell_type": "markdown",
   "metadata": {
    "deletable": true,
    "editable": true
   },
   "source": [
    "In the Training process, at each epoch, 3 words are taken from the training data, encoded to integer to form the input vector. The training labels are one-hot vector encoding the word that comes after the 3 inputs words. Display the loss and the training accuracy every 1000 iteration. Save the model at the end of training in the **lstm_model** folder"
   ]
  },
  {
   "cell_type": "code",
   "execution_count": 9,
   "metadata": {
    "collapsed": false,
    "deletable": true,
    "editable": true,
    "scrolled": true
   },
   "outputs": [
    {
     "name": "stdout",
     "output_type": "stream",
     "text": [
      "Iter= 1000, Average Loss= 4.982308, Average Accuracy= 7.10%\n",
      "['there', 'was', 'once'] - [a] vs [the]\n",
      "Iter= 2000, Average Loss= 4.005073, Average Accuracy= 12.60%\n",
      "['who', 'tended', 'his'] - [sheep] vs [.]\n",
      "Iter= 3000, Average Loss= 3.688261, Average Accuracy= 19.30%\n",
      "['young', 'shepherd', 'boy'] - [who] vs [and]\n",
      "Iter= 4000, Average Loss= 3.806114, Average Accuracy= 18.70%\n",
      "['there', 'was', 'once'] - [a] vs [the]\n",
      "Iter= 5000, Average Loss= 3.021567, Average Accuracy= 33.00%\n",
      "['dark', 'forest', '.'] - [it] vs [so]\n",
      "Iter= 6000, Average Loss= 2.841508, Average Accuracy= 38.70%\n",
      "['mountain', 'near', 'a'] - [dark] vs [even]\n",
      "Iter= 7000, Average Loss= 3.276319, Average Accuracy= 29.80%\n",
      "['mountain', 'near', 'a'] - [dark] vs [and]\n",
      "Iter= 8000, Average Loss= 2.447943, Average Accuracy= 44.70%\n",
      "['the', 'foot', 'of'] - [a] vs [a]\n",
      "Iter= 9000, Average Loss= 2.347743, Average Accuracy= 49.20%\n",
      "['rather', 'lonely', 'for'] - [him] vs [.]\n",
      "Iter= 10000, Average Loss= 2.667252, Average Accuracy= 42.10%\n",
      "['.', 'it', 'was'] - [rather] vs [a]\n",
      "Iter= 11000, Average Loss= 2.134206, Average Accuracy= 54.30%\n",
      "['rather', 'lonely', 'for'] - [him] vs [him]\n",
      "Iter= 12000, Average Loss= 2.089802, Average Accuracy= 54.30%\n",
      "['for', 'him', 'all'] - [day] vs [the]\n",
      "Iter= 13000, Average Loss= 2.256048, Average Accuracy= 50.30%\n",
      "['so', 'he', 'thought'] - [upon] vs [the]\n",
      "Iter= 14000, Average Loss= 2.319333, Average Accuracy= 50.40%\n",
      "['plan', 'by', 'which'] - [he] vs [he]\n",
      "Iter= 15000, Average Loss= 1.993091, Average Accuracy= 54.10%\n",
      "[',', 'so', 'he'] - [thought] vs [thought]\n",
      "Iter= 16000, Average Loss= 1.815346, Average Accuracy= 60.20%\n",
      "['he', 'thought', 'upon'] - [a] vs [a]\n",
      "Iter= 17000, Average Loss= 2.066788, Average Accuracy= 53.00%\n",
      "['could', 'get', 'a'] - [little] vs [and]\n",
      "Iter= 18000, Average Loss= 1.361218, Average Accuracy= 69.60%\n",
      "['get', 'a', 'little'] - [company] vs [the]\n",
      "Iter= 19000, Average Loss= 2.101400, Average Accuracy= 50.10%\n",
      "['.', 'he', 'rushed'] - [down] vs [down]\n",
      "Iter= 20000, Average Loss= 1.977156, Average Accuracy= 52.90%\n",
      "['he', 'could', 'get'] - [a] vs [a]\n",
      "Iter= 21000, Average Loss= 1.676822, Average Accuracy= 57.80%\n",
      "['he', 'thought', 'upon'] - [a] vs [a]\n",
      "Iter= 22000, Average Loss= 1.052131, Average Accuracy= 77.30%\n",
      "['by', 'which', 'he'] - [could] vs [dark]\n",
      "Iter= 23000, Average Loss= 1.074769, Average Accuracy= 73.40%\n",
      "['company', 'and', 'some'] - [excitement] vs [excitement]\n",
      "Iter= 24000, Average Loss= 1.762384, Average Accuracy= 58.10%\n",
      "['calling', 'out', 'wolf'] - [,] vs [,]\n",
      "Iter= 25000, Average Loss= 1.461418, Average Accuracy= 65.50%\n",
      "['towards', 'the', 'village'] - [calling] vs [calling]\n",
      "Iter= 26000, Average Loss= 1.488478, Average Accuracy= 61.70%\n",
      "['the', 'village', 'calling'] - [out] vs [,]\n",
      "Iter= 27000, Average Loss= 1.633228, Average Accuracy= 59.10%\n",
      "['the', 'villagers', 'came'] - [out] vs [to]\n",
      "Iter= 28000, Average Loss= 1.334593, Average Accuracy= 65.40%\n",
      "[',', 'and', 'some'] - [of] vs [the]\n",
      "Iter= 29000, Average Loss= 0.985419, Average Accuracy= 75.10%\n",
      "['with', 'him', 'for'] - [a] vs [a]\n",
      "Iter= 30000, Average Loss= 1.555909, Average Accuracy= 61.00%\n",
      "['of', 'them', 'stopped'] - [with] vs [with]\n",
      "Iter= 31000, Average Loss= 1.240786, Average Accuracy= 69.80%\n",
      "['stopped', 'with', 'him'] - [for] vs [a]\n",
      "Iter= 32000, Average Loss= 1.029533, Average Accuracy= 73.40%\n",
      "['him', ',', 'and'] - [some] vs [some]\n",
      "Iter= 33000, Average Loss= 1.030927, Average Accuracy= 73.60%\n",
      "['some', 'of', 'them'] - [stopped] vs [help]\n",
      "Iter= 34000, Average Loss= 1.196683, Average Accuracy= 70.90%\n",
      "[',', 'and', 'some'] - [of] vs [the]\n",
      "Iter= 35000, Average Loss= 1.099914, Average Accuracy= 73.10%\n",
      "['them', 'stopped', 'with'] - [him] vs [,]\n",
      "Iter= 36000, Average Loss= 1.203794, Average Accuracy= 68.50%\n",
      "['time', '.', 'this'] - [pleased] vs [pleased]\n",
      "Iter= 37000, Average Loss= 0.879334, Average Accuracy= 77.20%\n",
      "['that', 'a', 'few'] - [days] vs [was]\n",
      "Iter= 38000, Average Loss= 0.994206, Average Accuracy= 74.00%\n",
      "['afterwards', 'he', 'tried'] - [the] vs [the]\n",
      "Iter= 39000, Average Loss= 0.838392, Average Accuracy= 79.70%\n",
      "['to', 'his', 'help'] - [.] vs [.]\n",
      "Iter= 40000, Average Loss= 0.810431, Average Accuracy= 79.90%\n",
      "['wolf', 'actually', 'did'] - [come] vs [not]\n",
      "Iter= 41000, Average Loss= 0.894344, Average Accuracy= 78.10%\n",
      "['to', 'worry', 'the'] - [sheep,] vs [sheep,]\n",
      "Iter= 42000, Average Loss= 0.876505, Average Accuracy= 77.80%\n",
      "[',', 'still', 'louder'] - [than] vs [than]\n",
      "Iter= 43000, Average Loss= 0.943342, Average Accuracy= 76.80%\n",
      "['the', 'boy', 'of'] - [course] vs [again]\n",
      "Iter= 44000, Average Loss= 0.827295, Average Accuracy= 79.10%\n",
      "['actually', 'did', 'come'] - [out] vs [out]\n",
      "Iter= 45000, Average Loss= 0.958322, Average Accuracy= 76.00%\n",
      "['from', 'the', 'forest'] - [,] vs [,]\n",
      "Iter= 46000, Average Loss= 0.612455, Average Accuracy= 84.00%\n",
      "['shortly', 'after', 'this'] - [a] vs [a]\n",
      "Iter= 47000, Average Loss= 0.556309, Average Accuracy= 85.30%\n",
      "['sheep,', 'and', 'the'] - [boy] vs [boy]\n",
      "Iter= 48000, Average Loss= 0.707541, Average Accuracy= 81.30%\n",
      "['villagers', ',', 'who'] - [had] vs [had]\n",
      "Iter= 49000, Average Loss= 0.960478, Average Accuracy= 75.50%\n",
      "[',', 'wolf', ','] - [still] vs [still]\n",
      "Iter= 50000, Average Loss= 0.672656, Average Accuracy= 83.00%\n",
      "['still', 'louder', 'than'] - [before] vs [before]\n",
      "Optimization Finished!\n",
      "('Elapsed time: ', 58.89074206352234)\n",
      "Run on command line.\n",
      "\ttensorboard --logdir=lstm_words\n",
      "Point your web browser to: http://localhost:6006/\n",
      "Model saved in file: model.ckpt\n"
     ]
    }
   ],
   "source": [
    "# Initializing the variables\n",
    "init = tf.global_variables_initializer()\n",
    "saver = tf.train.Saver()\n",
    "start_time = time()\n",
    "# Launch the graph\n",
    "with tf.Session() as session:\n",
    "    session.run(init)\n",
    "    step = 0\n",
    "    offset = random.randint(0,n_input+1)\n",
    "    end_offset = n_input + 1\n",
    "    acc_total = 0\n",
    "    loss_total = 0\n",
    "\n",
    "    writer.add_graph(session.graph)\n",
    "\n",
    "    while step < epochs:\n",
    "        # Generate a minibatch. Add some randomness on selection process.\n",
    "        if offset > (len(train_data)-end_offset):\n",
    "            offset = random.randint(0, n_input+1)\n",
    "\n",
    "        symbols_in_keys = [ [dictionary[ str(train_data[i])]] for i in range(offset, offset+n_input) ]\n",
    "        symbols_in_keys = np.reshape(np.array(symbols_in_keys), [-1, n_input, 1])\n",
    "\n",
    "        symbols_out_onehot = np.zeros([len(dictionary)], dtype=float)\n",
    "        symbols_out_onehot[dictionary[str(train_data[offset+n_input])]] = 1.0\n",
    "        symbols_out_onehot = np.reshape(symbols_out_onehot,[1,-1])\n",
    "\n",
    "        _, acc, loss, onehot_pred = session.run([optimizer, accuracy, cost, pred], \\\n",
    "                                                feed_dict={x: symbols_in_keys, y: symbols_out_onehot})\n",
    "        loss_total += loss\n",
    "        acc_total += acc\n",
    "        if (step+1) % display_step == 0:\n",
    "            print(\"Iter= \" + str(step+1) + \", Average Loss= \" + \\\n",
    "                  \"{:.6f}\".format(loss_total/display_step) + \", Average Accuracy= \" + \\\n",
    "                  \"{:.2f}%\".format(100*acc_total/display_step))\n",
    "            acc_total = 0\n",
    "            loss_total = 0\n",
    "            symbols_in = [train_data[i] for i in range(offset, offset + n_input)]\n",
    "            symbols_out = train_data[offset + n_input]\n",
    "            symbols_out_pred = reverse_dictionary[int(tf.argmax(onehot_pred, 1).eval())]\n",
    "            print(\"%s - [%s] vs [%s]\" % (symbols_in,symbols_out,symbols_out_pred))\n",
    "        step += 1\n",
    "        offset += (n_input+1)\n",
    "    print(\"Optimization Finished!\")\n",
    "    print(\"Elapsed time: \", time() - start_time)\n",
    "    print(\"Run on command line.\")\n",
    "    print(\"\\ttensorboard --logdir=%s\" % (logs_path))\n",
    "    print(\"Point your web browser to: http://localhost:6006/\")\n",
    "    save_path = saver.save(session, \"model.ckpt\")\n",
    "    print(\"Model saved in file: %s\" % save_path)\n"
   ]
  },
  {
   "cell_type": "markdown",
   "metadata": {
    "deletable": true,
    "editable": true
   },
   "source": [
    "## Comment:\n",
    "We created different models with different number of layers, and we have seen that the best accuracy is achieved using only 2 laers. Using more or less layers we achieve a lower accuracy"
   ]
  },
  {
   "cell_type": "markdown",
   "metadata": {
    "collapsed": true,
    "deletable": true,
    "editable": true
   },
   "source": [
    "## Part 4 : Test your model "
   ]
  },
  {
   "cell_type": "markdown",
   "metadata": {
    "collapsed": true,
    "deletable": true,
    "editable": true
   },
   "source": [
    "### 3.1. Next word prediction"
   ]
  },
  {
   "cell_type": "markdown",
   "metadata": {
    "deletable": true,
    "editable": true
   },
   "source": [
    "Load your model (using the model_saved variable given in the training session) and test the sentences :\n",
    "- 'get a little' \n",
    "- 'nobody tried to'\n",
    "- Try with other sentences using words from the stroy's vocabulary. "
   ]
  },
  {
   "cell_type": "code",
   "execution_count": 10,
   "metadata": {
    "collapsed": false,
    "deletable": true,
    "editable": true
   },
   "outputs": [
    {
     "name": "stdout",
     "output_type": "stream",
     "text": [
      "company\n",
      "come\n"
     ]
    }
   ],
   "source": [
    "with tf.Session() as sess:\n",
    "    # Initialize variables\n",
    "    sess.run(init)\n",
    "\n",
    "    # Restore model weights from previously saved model\n",
    "    saver.restore(sess, \"./model.ckpt\")\n",
    "    print(test('get a little', sess))\n",
    "    print(test('nobody tried to', sess))"
   ]
  },
  {
   "cell_type": "markdown",
   "metadata": {
    "deletable": true,
    "editable": true
   },
   "source": [
    "## Comment:\n",
    "Here it looks that the RNN is working, in fact it can predict correctly the next word. \n",
    "We should not that in this case is difficult to check if the RNN is actually overfitting the training data."
   ]
  },
  {
   "cell_type": "markdown",
   "metadata": {
    "deletable": true,
    "editable": true
   },
   "source": [
    "### 3.2. More fun with the Fable Writer !"
   ]
  },
  {
   "cell_type": "markdown",
   "metadata": {
    "deletable": true,
    "editable": true
   },
   "source": [
    "You will use the RNN/LSTM model learned in the previous question to create a\n",
    "new story/fable.\n",
    "For this you will choose 3 words from the dictionary which will start your\n",
    "story and initialize your network. Using those 3 words the RNN will generate\n",
    "the next word or the story. Using the last 3 words (the newly predicted one\n",
    "and the last 2 from the input) you will use the network to predict the 5\n",
    "word of the story.. and so on until your story is 5 sentence long. \n",
    "Make a point at the end of your story. \n",
    "To implement that, you will use the test function. "
   ]
  },
  {
   "cell_type": "markdown",
   "metadata": {
    "deletable": true,
    "editable": true
   },
   "source": [
    "### This is the original fable, we will look at it to note an eventual overfitting\n",
    "It was rather lonely for him all day, so he thought upon a plan by which he could get a little company and some excitement.\n",
    "He rushed down towards the village calling out \"Wolf, Wolf,\" and the villagers came out to meet him, and some of them stopped with him for a considerable time.\n",
    "This pleased the boy so much that a few days afterwards he tried the same trick, and again the villagers came to his help.\n",
    "But shortly after this a Wolf actually did come out from the forest, and began to worry the sheep, and the boy of course cried out \"Wolf, Wolf,\" still louder than before.\n",
    "But this time the villagers, who had been fooled twice before, thought the boy was again deceiving them, and nobody stirred to come to his help.\n",
    "So the Wolf made a good meal off the boy's flock, and when the boy complained, the wise man of the village said:\n",
    "\"A liar will not be believed, even when he speaks the truth."
   ]
  },
  {
   "cell_type": "code",
   "execution_count": 13,
   "metadata": {
    "collapsed": false,
    "deletable": true,
    "editable": true
   },
   "outputs": [
    {
     "name": "stdout",
     "output_type": "stream",
     "text": [
      "man rather tried he the village had out wolf meet him , and some of them stopped with a and when the villagers came to his help . so the wolf made , good days : , and when the villagers came to his help . so the wolf made , good days : , and when the villagers came to his help . so the wolf made , good days : , and when the villagers came to his help . so the wolf made , good days : , and when the villagers came to his help .\n"
     ]
    }
   ],
   "source": [
    "#Your implementation goes here \n",
    "with tf.Session() as sess:\n",
    "    # Initialize variables\n",
    "    sess.run(init)\n",
    "\n",
    "    # Restore model weights from previously saved model\n",
    "    saver.restore(sess, \"./model.ckpt\")\n",
    "    \n",
    "    #a sentence is concluded when we find a dot.\n",
    "    fable = [random.choice(dictionary.keys()) for _ in range(3)]\n",
    "    n_sentences = fable.count('.')\n",
    "\n",
    "    offset = 0\n",
    "    while n_sentences < 5:\n",
    "        next_word = test(' '.join(fable[offset:offset+3]), sess)\n",
    "        fable.append(next_word)\n",
    "        if next_word == '.':\n",
    "            n_sentences += 1\n",
    "        offset+=1\n",
    "    print(' '.join(fable))"
   ]
  },
  {
   "cell_type": "markdown",
   "metadata": {
    "deletable": true,
    "editable": true
   },
   "source": [
    "## Comment:\n",
    "This is interesting, we see that the sentences have some sort of sense, but when we reach a point, we see the same sentence repated many times. Thus is probably due to overfitting, we should look more deeply. We see that the repeated sentence is different from the original one, but it is still always the same. We think this is due to the fact that the dot start always the same sentence. Maybe we could create more layers and see what happens."
   ]
  },
  {
   "cell_type": "code",
   "execution_count": 3,
   "metadata": {
    "collapsed": false,
    "deletable": true,
    "editable": true
   },
   "outputs": [],
   "source": [
    "def load_data(filename):\n",
    "    with open(filename) as f:\n",
    "        data = f.readlines()\n",
    "    data = [x.strip().lower() for x in data]\n",
    "    data = [data[i].split() for i in range(len(data))]\n",
    "    data = np.array(data)\n",
    "    data = np.reshape(data, [-1, ])\n",
    "    return data\n",
    "\n",
    "train_file ='data/story.txt'\n",
    "train_data = load_data(train_file)\n",
    "\n",
    "def build_vocabulary(words):\n",
    "    count = collections.Counter(words).most_common()\n",
    "    dic= dict()\n",
    "    for word, _ in count:\n",
    "        dic[word] = len(dic)\n",
    "\n",
    "    reverse_dic= dict(zip(dic.values(), dic.keys()))\n",
    "    return dic, reverse_dic\n",
    "\n",
    "dictionary, reverse_dictionary = build_vocabulary(train_data)\n",
    "vocabulary_size= len(dictionary) "
   ]
  },
  {
   "cell_type": "code",
   "execution_count": 32,
   "metadata": {
    "collapsed": false,
    "deletable": true,
    "editable": true
   },
   "outputs": [],
   "source": [
    "import numpy as np\n",
    "import collections # used to build the dictionary\n",
    "import random\n",
    "import time\n",
    "from time import time\n",
    "import pickle # may be used to save your model \n",
    "import matplotlib.pyplot as plt\n",
    "#Import Tensorflow and rnn\n",
    "import tensorflow as tf\n",
    "from tensorflow.contrib import rnn  \n",
    "\n",
    "def create_train_model(n_input = 3, n_layers = 2,verbose = False):\n",
    "    tf.reset_default_graph()\n",
    "    # Target log path\n",
    "    logs_path = 'lstm_words'\n",
    "    writer = tf.summary.FileWriter(logs_path)\n",
    "    \n",
    "    def lstm_model(x, w, b, n_input, n_hidden,n_layers):\n",
    "        # reshape to [1, n_input]\n",
    "        x = tf.reshape(x, [-1, n_input])\n",
    "\n",
    "        # Generate a n_input-element sequence of inputs\n",
    "        # (eg. [had] [a] [general] -> [20] [6] [33])\n",
    "        x = tf.split(x,n_input,1)\n",
    "\n",
    "        rnn_layers = [rnn.BasicLSTMCell(n_hidden) for _ in range(n_layers)]\n",
    "        rnn_cell = rnn.MultiRNNCell(rnn_layers)\n",
    "        # generate prediction\n",
    "        outputs, states = rnn.static_rnn(rnn_cell, x, dtype=tf.float32)\n",
    "\n",
    "        # there are n_input outputs but\n",
    "        # we only want the last output\n",
    "        return tf.matmul(outputs[-1], w['out']) + b['out']\n",
    "    \n",
    "    # Training Parameters\n",
    "    learning_rate = 0.001\n",
    "    epochs = 50000\n",
    "    display_step = 1000\n",
    "\n",
    "\n",
    "    #For each LSTM cell that you initialise, supply a value for the hidden dimension, number of units in LSTM cell\n",
    "    n_hidden = 64\n",
    "\n",
    "    # tf Graph input\n",
    "    x = tf.placeholder(\"float\", [None, n_input, 1])\n",
    "    y = tf.placeholder(\"float\", [None, vocabulary_size])\n",
    "\n",
    "    # LSTM  weights and biases\n",
    "    weights = { 'out': tf.Variable(tf.random_normal([n_hidden, vocabulary_size]))}\n",
    "    biases = {'out': tf.Variable(tf.random_normal([vocabulary_size])) }\n",
    "\n",
    "\n",
    "    #build the model\n",
    "    pred = lstm_model(x, weights, biases,n_input,n_hidden,n_layers)\n",
    "    # Loss and optimizer\n",
    "    cost = tf.reduce_mean(tf.nn.softmax_cross_entropy_with_logits(logits=pred, labels=y))\n",
    "    #cost = tf.reduce_mean(-tf.reduce_sum(y*tf.log(pred), reduction_indices=1))\n",
    "    #cost = tf.reduce_mean(-tf.reduce_sum(y*tf.log(tf.clip_by_value(pred,-1.0,1.0)), reduction_indices=1))\n",
    "    optimizer = tf.train.RMSPropOptimizer(learning_rate).minimize(cost)\n",
    "\n",
    "    # Model evaluation\n",
    "    correct_pred = tf.equal(tf.argmax(pred,1), tf.argmax(y,1))\n",
    "    accuracy = tf.reduce_mean(tf.cast(correct_pred, tf.float32))\n",
    "    \n",
    "    # Initializing the variables\n",
    "    init = tf.global_variables_initializer()\n",
    "    saver = tf.train.Saver()\n",
    "    start_time = time()\n",
    "    # Launch the graph\n",
    "    with tf.Session() as session:\n",
    "        session.run(init)\n",
    "        step = 0\n",
    "        offset = random.randint(0,n_input+1)\n",
    "        end_offset = n_input + 1\n",
    "        acc_total = 0\n",
    "        loss_total = 0\n",
    "\n",
    "        writer.add_graph(session.graph)\n",
    "\n",
    "        while step < epochs:\n",
    "            # Generate a minibatch. Add some randomness on selection process.\n",
    "            if offset > (len(train_data)-end_offset):\n",
    "                offset = random.randint(0, n_input+1)\n",
    "\n",
    "            symbols_in_keys = [ [dictionary[ str(train_data[i])]] for i in range(offset, offset+n_input) ]\n",
    "            symbols_in_keys = np.reshape(np.array(symbols_in_keys), [-1, n_input, 1])\n",
    "\n",
    "            symbols_out_onehot = np.zeros([len(dictionary)], dtype=float)\n",
    "            symbols_out_onehot[dictionary[str(train_data[offset+n_input])]] = 1.0\n",
    "            symbols_out_onehot = np.reshape(symbols_out_onehot,[1,-1])\n",
    "\n",
    "            _, acc, loss, onehot_pred = session.run([optimizer, accuracy, cost, pred], \\\n",
    "                                                    feed_dict={x: symbols_in_keys, y: symbols_out_onehot})\n",
    "            loss_total += loss\n",
    "            acc_total += acc\n",
    "            if (step+1) % display_step == 0:\n",
    "                if verbose or step+1 == epochs: print(\"Iter= \" + str(step+1) + \", Average Loss= \" + \\\n",
    "                      \"{:.6f}\".format(loss_total/display_step) + \", Average Accuracy= \" + \\\n",
    "                      \"{:.2f}%\".format(100*acc_total/display_step))\n",
    "                acc_total = 0\n",
    "                loss_total = 0\n",
    "                symbols_in = [train_data[i] for i in range(offset, offset + n_input)]\n",
    "                symbols_out = train_data[offset + n_input]\n",
    "                symbols_out_pred = reverse_dictionary[int(tf.argmax(onehot_pred, 1).eval())]\n",
    "                if verbose: print(\"%s - [%s] vs [%s]\" % (symbols_in,symbols_out,symbols_out_pred))\n",
    "            step += 1\n",
    "            offset += (n_input+1)\n",
    "            \n",
    "        \n",
    "        print(\"Optimization Finished!\")\n",
    "        print(\"Elapsed time: \", time() - start_time)\n",
    "        print(\"Run on command line.\")\n",
    "        print(\"\\ttensorboard --logdir=%s\" % (logs_path))\n",
    "        print(\"Point your web browser to: http://localhost:6006/\")\n",
    "        save_path = saver.save(session, \"model.ckpt\")\n",
    "        print(\"Model saved in file: %s\" % save_path)\n",
    "        \n",
    "        #run the cell\n",
    "        def test(sentence, session, verbose=False):\n",
    "            sentence = sentence.strip()\n",
    "            words = sentence.split(' ')\n",
    "            if len(words) != n_input:\n",
    "                print(\"sentence length should be equel to\", n_input, \"!\")\n",
    "            try:\n",
    "                symbols_inputs = [dictionary[str(words[i - n_input])] for i in range(n_input)]\n",
    "                keys = np.reshape(np.array(symbols_inputs), [-1, n_input, 1])\n",
    "                onehot_pred = session.run(pred, feed_dict={x: keys})\n",
    "                onehot_pred_index = int(tf.argmax(onehot_pred, 1).eval())\n",
    "                words.append(reverse_dictionary[onehot_pred_index])\n",
    "                sentence = \" \".join(words)\n",
    "                if verbose:\n",
    "                    print(sentence)\n",
    "                return reverse_dictionary[onehot_pred_index]\n",
    "            except:\n",
    "                print \" \".join([\"Word\", words[i - n_input], \"not in dictionary\"])\n",
    "\n",
    "        \n",
    "        #a sentence is concluded when we find a dot.\n",
    "        fable = [random.choice(dictionary.keys()) for _ in range(n_input)]\n",
    "        #print(dictionary)\n",
    "        #print(fable)\n",
    "        n_sentences = fable.count('.')\n",
    "\n",
    "        offset = 0\n",
    "        while n_sentences < 5 and len(fable) < 200:\n",
    "            next_word = test(' '.join(fable[offset:offset+n_input]), session)\n",
    "            fable.append(next_word)\n",
    "            if next_word == '.':\n",
    "                n_sentences += 1\n",
    "            offset+=1\n",
    "        print(' '.join(fable))"
   ]
  },
  {
   "cell_type": "markdown",
   "metadata": {
    "deletable": true,
    "editable": true
   },
   "source": [
    "### 3.3. Play with number of inputs"
   ]
  },
  {
   "cell_type": "markdown",
   "metadata": {
    "collapsed": true,
    "deletable": true,
    "editable": true
   },
   "source": [
    "The number of input in our example is 3, see what happens when you use other number (1 and 5)"
   ]
  },
  {
   "cell_type": "markdown",
   "metadata": {
    "deletable": true,
    "editable": true
   },
   "source": [
    "### n_input = 1"
   ]
  },
  {
   "cell_type": "code",
   "execution_count": 33,
   "metadata": {
    "collapsed": false,
    "deletable": true,
    "editable": true
   },
   "outputs": [
    {
     "name": "stdout",
     "output_type": "stream",
     "text": [
      "Iter= 50000, Average Loss= 3.199297, Average Accuracy= 11.90%\n",
      "Optimization Finished!\n",
      "('Elapsed time: ', 70.26049900054932)\n",
      "Run on command line.\n",
      "\ttensorboard --logdir=lstm_words\n",
      "Point your web browser to: http://localhost:6006/\n",
      "Model saved in file: model.ckpt\n",
      "actually . his . his . his . his .\n"
     ]
    }
   ],
   "source": [
    "create_train_model(n_input = 1, n_layers = 1)"
   ]
  },
  {
   "cell_type": "code",
   "execution_count": 34,
   "metadata": {
    "collapsed": false,
    "deletable": true,
    "editable": true
   },
   "outputs": [
    {
     "name": "stdout",
     "output_type": "stream",
     "text": [
      "Iter= 50000, Average Loss= 3.596768, Average Accuracy= 13.90%\n",
      "Optimization Finished!\n",
      "('Elapsed time: ', 65.09528613090515)\n",
      "Run on command line.\n",
      "\ttensorboard --logdir=lstm_words\n",
      "Point your web browser to: http://localhost:6006/\n",
      "Model saved in file: model.ckpt\n",
      "so . worry he his . worry he his . worry he his . worry he his .\n"
     ]
    }
   ],
   "source": [
    "create_train_model(n_input = 1, n_layers = 2)"
   ]
  },
  {
   "cell_type": "code",
   "execution_count": 35,
   "metadata": {
    "collapsed": false,
    "deletable": true,
    "editable": true
   },
   "outputs": [
    {
     "name": "stdout",
     "output_type": "stream",
     "text": [
      "Iter= 50000, Average Loss= 3.031387, Average Accuracy= 17.60%\n",
      "Optimization Finished!\n",
      "('Elapsed time: ', 69.99397802352905)\n",
      "Run on command line.\n",
      "\ttensorboard --logdir=lstm_words\n",
      "Point your web browser to: http://localhost:6006/\n",
      "Model saved in file: model.ckpt\n",
      "and some the boy who to his , and some the boy who to his , and some the boy who to his , and some the boy who to his , and some the boy who to his , and some the boy who to his , and some the boy who to his , and some the boy who to his , and some the boy who to his , and some the boy who to his , and some the boy who to his , and some the boy who to his , and some the boy who to his , and some the boy who to his , and some the boy who to his , and some the boy who to his , and some the boy who to his , and some the boy who to his , and some the boy who to his , and some the boy who to his , and some the boy who to his , and some the boy who to his , and some the boy who to his , and some the boy who to his , and some the boy who to his ,\n"
     ]
    }
   ],
   "source": [
    "create_train_model(n_input = 1, n_layers = 3)"
   ]
  },
  {
   "cell_type": "markdown",
   "metadata": {},
   "source": [
    "###  Comment:\n",
    "Here we see that when the input size is 1 we obtain a vad model regardless of the number of layers, this is because we are basically predicting a word based on the preceding word. This not enough to create a sentence with some sort of sense.Looking ath the prediction accuracy, it is very low."
   ]
  },
  {
   "cell_type": "markdown",
   "metadata": {
    "deletable": true,
    "editable": true
   },
   "source": [
    "### n_input = 3"
   ]
  },
  {
   "cell_type": "code",
   "execution_count": 36,
   "metadata": {
    "collapsed": false,
    "deletable": true,
    "editable": true
   },
   "outputs": [
    {
     "name": "stdout",
     "output_type": "stream",
     "text": [
      "Iter= 50000, Average Loss= 0.708094, Average Accuracy= 81.10%\n",
      "Optimization Finished!\n",
      "('Elapsed time: ', 59.99074721336365)\n",
      "Run on command line.\n",
      "\ttensorboard --logdir=lstm_words\n",
      "Point your web browser to: http://localhost:6006/\n",
      "Model saved in file: model.ckpt\n",
      "speaks pleased stopped him some a considerable time . this pleased the boy so much that the and again much not a and again the villagers came to his help . but this time the villagers , who had been him for a considerable time . this pleased the boy so much that the and again much not a and again the villagers came to his help . but this time the villagers , who had been him for a considerable time .\n"
     ]
    }
   ],
   "source": [
    "create_train_model(n_input = 3, n_layers = 1)"
   ]
  },
  {
   "cell_type": "code",
   "execution_count": 37,
   "metadata": {
    "collapsed": false,
    "deletable": true,
    "editable": true
   },
   "outputs": [
    {
     "name": "stdout",
     "output_type": "stream",
     "text": [
      "Iter= 50000, Average Loss= 0.275338, Average Accuracy= 90.70%\n",
      "Optimization Finished!\n",
      "('Elapsed time: ', 65.29126191139221)\n",
      "Run on command line.\n",
      "\ttensorboard --logdir=lstm_words\n",
      "Point your web browser to: http://localhost:6006/\n",
      "Model saved in file: model.ckpt\n",
      "wolf down them , wolf days stirred to could get come . it was rather lonely for him all day , so he thought upon a plan by afterwards he who tended his sheep at the foot . the boy , who villagers thought day them , and nobody stirred to come to his help . but this time the villagers , who had been fooled twice before , thought the boy , who villagers thought day them , and nobody stirred to come to his help . but this time the villagers , who had been fooled twice before , thought the boy , who villagers thought day them , and nobody stirred to come to his help .\n"
     ]
    }
   ],
   "source": [
    "create_train_model(n_input = 3, n_layers = 2)"
   ]
  },
  {
   "cell_type": "code",
   "execution_count": 38,
   "metadata": {
    "collapsed": false,
    "deletable": true,
    "editable": true
   },
   "outputs": [
    {
     "name": "stdout",
     "output_type": "stream",
     "text": [
      "Iter= 50000, Average Loss= 0.319908, Average Accuracy= 90.20%\n",
      "Optimization Finished!\n",
      "('Elapsed time: ', 77.7850570678711)\n",
      "Run on command line.\n",
      "\ttensorboard --logdir=lstm_words\n",
      "Point your web browser to: http://localhost:6006/\n",
      "Model saved in file: model.ckpt\n",
      "shepherd time than out wolf , wolf , still louder than before . but this time the villagers , who had been fooled twice before , and nobody to worry the sheep, flock , little when he speaks the truth and the boy of course cried out wolf , wolf , still louder than before . but this time the villagers , who had been fooled twice before , and nobody to worry the sheep, flock , little when he speaks the truth and the boy of course cried out wolf , wolf , still louder than before . but this time the villagers , who had been fooled twice before , and nobody to worry the sheep, flock , little when he speaks the truth and the boy of course cried out wolf , wolf , still louder than before . but this time the villagers , who had been fooled twice before , and nobody to worry the sheep, flock , little when he speaks the truth and the boy of course cried out wolf , wolf , still louder than before .\n"
     ]
    }
   ],
   "source": [
    "create_train_model(n_input = 3, n_layers = 3)"
   ]
  },
  {
   "cell_type": "markdown",
   "metadata": {},
   "source": [
    "###  Comment:\n",
    "Here we see some sentences that have a sense, but we see a tendency to repeat the sentence of the training fable. This is interesting, because during the training the single triples where chosen randomly and not sequentially. Somehow, the net learned the training fable."
   ]
  },
  {
   "cell_type": "markdown",
   "metadata": {
    "deletable": true,
    "editable": true
   },
   "source": [
    "### n_input = 5"
   ]
  },
  {
   "cell_type": "code",
   "execution_count": 39,
   "metadata": {
    "collapsed": false,
    "deletable": true,
    "editable": true
   },
   "outputs": [
    {
     "name": "stdout",
     "output_type": "stream",
     "text": [
      "Iter= 50000, Average Loss= 0.033428, Average Accuracy= 98.90%\n",
      "Optimization Finished!\n",
      "('Elapsed time: ', 67.373526096344)\n",
      "Run on command line.\n",
      "\ttensorboard --logdir=lstm_words\n",
      "Point your web browser to: http://localhost:6006/\n",
      "Model saved in file: model.ckpt\n",
      ": : and out come the villagers so . his came the so shortly , the wise man of the village said : a liar will not be believed , even when he speaks the truth . the boy of course cried out wolf , wolf , and the villagers came out to meet him , and some of them stopped with him for a considerable time . this pleased the boy so much that a few days afterwards he tried the same trick , and when the villagers came to his help . but shortly after this a wolf actually did come out from the forest , and began to worry the sheep, and the boy of course cried out wolf , wolf , and the villagers came out to meet him , and some of them stopped with him for a considerable time .\n"
     ]
    }
   ],
   "source": [
    "create_train_model(n_input = 5, n_layers = 1)"
   ]
  },
  {
   "cell_type": "code",
   "execution_count": 40,
   "metadata": {
    "collapsed": false,
    "deletable": true,
    "editable": true
   },
   "outputs": [
    {
     "name": "stdout",
     "output_type": "stream",
     "text": [
      "Iter= 50000, Average Loss= 0.056223, Average Accuracy= 98.50%\n",
      "Optimization Finished!\n",
      "('Elapsed time: ', 78.79401302337646)\n",
      "Run on command line.\n",
      "\ttensorboard --logdir=lstm_words\n",
      "Point your web browser to: http://localhost:6006/\n",
      "Model saved in file: model.ckpt\n",
      "still tried foot mountain stirred , even when he speaks the truth . the boy of course cried out wolf , wolf , and the villagers came out to meet him , and some of them stopped with him for a considerable time . this pleased the boy so much that a few days afterwards he tried the same trick , and again the boy complained , the wise man of the village said : a liar will not be believed , even when he speaks the truth . the boy of course cried out wolf , wolf , and the villagers came out to meet him , and some of them stopped with him for a considerable time . this pleased the boy so much that a few days afterwards he tried the same trick , and again the boy complained , the wise man of the village said : a liar will not be believed , even when he speaks the truth .\n"
     ]
    }
   ],
   "source": [
    "create_train_model(n_input = 5, n_layers = 2)"
   ]
  },
  {
   "cell_type": "code",
   "execution_count": 42,
   "metadata": {
    "collapsed": false,
    "deletable": true,
    "editable": true
   },
   "outputs": [
    {
     "name": "stdout",
     "output_type": "stream",
     "text": [
      "Iter= 50000, Average Loss= 0.042002, Average Accuracy= 99.00%\n",
      "Optimization Finished!\n",
      "('Elapsed time: ', 96.72665596008301)\n",
      "Run on command line.\n",
      "\ttensorboard --logdir=lstm_words\n",
      "Point your web browser to: http://localhost:6006/\n",
      "Model saved in file: model.ckpt\n",
      "time before that be afterwards the wolf again the villagers came to his help . but shortly after this a wolf actually did come out from the forest , and began to worry the sheep, and the boy of course cried out wolf , wolf , and the villagers came out to meet him , and some of them stopped with him for a considerable time . this pleased the boy so much that a few days afterwards he tried the same trick , and again the villagers came to his help . but shortly after this a wolf actually did come out from the forest , and began to worry the sheep, and the boy of course cried out wolf , wolf , and the villagers came out to meet him , and some of them stopped with him for a considerable time . this pleased the boy so much that a few days afterwards he tried the same trick , and again the villagers came to his help .\n"
     ]
    }
   ],
   "source": [
    "create_train_model(n_input = 5, n_layers = 3)"
   ]
  },
  {
   "cell_type": "markdown",
   "metadata": {
    "collapsed": false,
    "deletable": true,
    "editable": true
   },
   "source": [
    "###  Comment:\n",
    "With 5 words, the model learn to predict very well the next word, in fact we obtain an high accuracy. In this case we see that whole sentences are copied from the original fable, but they are not repeated exactly, we still see that some sentences are repeated, but at this point we think that this is due to the limited training set."
   ]
  }
 ],
 "metadata": {
  "anaconda-cloud": {},
  "kernelspec": {
   "display_name": "Python 2",
   "language": "python",
   "name": "python2"
  },
  "language_info": {
   "codemirror_mode": {
    "name": "ipython",
    "version": 2
   },
   "file_extension": ".py",
   "mimetype": "text/x-python",
   "name": "python",
   "nbconvert_exporter": "python",
   "pygments_lexer": "ipython2",
   "version": "2.7.6"
  },
  "widgets": {
   "state": {},
   "version": "1.1.2"
  }
 },
 "nbformat": 4,
 "nbformat_minor": 0
}
